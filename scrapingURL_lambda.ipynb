{
 "cells": [
  {
   "cell_type": "code",
   "execution_count": 7,
   "metadata": {},
   "outputs": [],
   "source": [
    "from selenium import webdriver\n",
    "import time\n",
    "import random\n",
    "from selenium.webdriver.chrome.options import Options\n"
   ]
  },
  {
   "cell_type": "code",
   "execution_count": 8,
   "metadata": {},
   "outputs": [],
   "source": [
    "def collect_news():\n",
    "    #グーグルで検索\n",
    "    options = Options()\n",
    "    options.add_argument('--headless')\n",
    "    driver = webdriver.Chrome(executable_path=r\"C:\\Users\\care-lab\\chromedriver.exe\",options=options)\n",
    "    query = 'カリフォルニア+観光'\n",
    "    driver.get('https://www.google.co.jp/search?q=%s&tbm=isch' % query)\n",
    "    #リンクをクリックする\n",
    "    r=random.randint(3,100)\n",
    "    print(r)\n",
    "    _url=driver.find_elements_by_class_name('mVDMnf ')[r]\n",
    "    _url.click()\n",
    "\n",
    "    \"\"\"\n",
    "    リンク先のURLを取得してもslackで参考画像が出ないのでリンクURL取得は却下\n",
    "    また，リンクURLからサイトに飛ぶ場合も，リンクURLではなくgoogleの画像一覧のURLが取得されるため却下\n",
    "    url=driver.find_elements_by_class_name('iKjWAf irc-nic isr-rtc a-no-hover-decoration')[3].get_attribute(\"href\")\n",
    "    url=driver.find_element_by_tag_name(\"a\").get_attribute(\"href\")\n",
    "\n",
    "    \"\"\"\n",
    "    time.sleep(1)\n",
    "    handle_array = driver.window_handles\n",
    "    #print(handle_array[0]) # CDwindow-C05965EE59CAEC10F211A9409XXXXXXX\n",
    "    #print(handle_array[1]) # CDwindow-31F4FEABC928A04414A01D0B5XXXXXXX\n",
    "    driver.switch_to.window(handle_array[1])\n",
    "    url = driver.current_url\n",
    "    print(url)\n"
   ]
  },
  {
   "cell_type": "code",
   "execution_count": 9,
   "metadata": {},
   "outputs": [
    {
     "name": "stdout",
     "output_type": "stream",
     "text": [
      "34\n",
      "https://jp.123rf.com/photo_62651589_%E5%A4%95%E6%9A%AE%E3%82%8C%E6%99%82%E3%81%AB%E3%83%8F%E3%83%AA%E3%82%A6%E3%83%83%E3%83%89%E5%A4%A7%E9%80%9A%E3%82%8A%E3%81%A7%E3%83%AD%E3%82%B5%E3%83%B3%E3%82%BC%E3%83%AB%E3%82%B9-%E3%83%AD%E3%82%B5%E3%83%B3%E3%82%BC%E3%83%AB%E3%82%B9%E3%80%81%E3%82%AB%E3%83%AA%E3%83%95%E3%82%A9%E3%83%AB%E3%83%8B%E3%82%A2%E5%B7%9E-2016-%E5%B9%B4-3-%E6%9C%88-1-%E6%97%A5-%E4%BA%A4%E9%80%9A%E3%80%82%E5%8A%87%E5%A0%B4%E5%9C%B0%E5%8C%BA%E3%81%AF%E3%80%81%E6%9C%89%E5%90%8D%E3%81%AA%E8%A6%B3%E5%85%89%E5%90%8D%E6%89%80%E3%81%A7%E3%81%99%E3%80%82.html\n"
     ]
    }
   ],
   "source": [
    "collect_news()"
   ]
  },
  {
   "cell_type": "code",
   "execution_count": null,
   "metadata": {},
   "outputs": [],
   "source": []
  }
 ],
 "metadata": {
  "kernelspec": {
   "display_name": "Python 3",
   "language": "python",
   "name": "python3"
  },
  "language_info": {
   "codemirror_mode": {
    "name": "ipython",
    "version": 3
   },
   "file_extension": ".py",
   "mimetype": "text/x-python",
   "name": "python",
   "nbconvert_exporter": "python",
   "pygments_lexer": "ipython3",
   "version": "3.6.5"
  }
 },
 "nbformat": 4,
 "nbformat_minor": 2
}
