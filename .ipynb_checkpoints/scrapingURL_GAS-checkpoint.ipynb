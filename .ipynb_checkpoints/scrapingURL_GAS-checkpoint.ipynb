{
 "cells": [
  {
   "cell_type": "code",
   "execution_count": null,
   "metadata": {},
   "outputs": [],
   "source": [
    "from selenium import webdriver\n",
    "import time\n",
    "import random\n",
    "from selenium.webdriver.chrome.options import Options\n",
    "from selenium.webdriver.common.keys import Keys\n",
    "from selenium.webdriver.common.action_chains import ActionChains"
   ]
  },
  {
   "cell_type": "code",
   "execution_count": null,
   "metadata": {},
   "outputs": [],
   "source": [
    "def collect_news():\n",
    "    #グーグルで検索\n",
    "    #options = Options()\n",
    "    #options.add_argument('--headless')\n",
    "    #driver = webdriver.Chrome(executable_path=r\"C:\\Users\\care-lab\\chromedriver.exe\",options=options)\n",
    "    driver = webdriver.Chrome(executable_path=r\"C:\\Users\\care-lab\\chromedriver.exe\")\n",
    "    \n",
    "    query = 'カリフォルニア+観光'\n",
    "    driver.get('https://www.google.co.jp/search?q=%s&tbm=isch' % query)\n",
    "    #リンクをクリックする\n",
    "#     r=random.randint(3,100)\n",
    "#     print(r)\n",
    "    for num in range(5, 100):\n",
    "        print(num)\n",
    "        _url=driver.find_elements_by_class_name('mVDMnf ')[num]\n",
    "        _url.click()\n",
    "\n",
    "        \"\"\"\n",
    "        リンク先のURLを取得してもslackで参考画像が出ないのでリンクURL取得は却下\n",
    "        また，リンクURLからサイトに飛ぶ場合も，リンクURLではなくgoogleの画像一覧のURLが取得されるため却下\n",
    "        url=driver.find_elements_by_class_name('iKjWAf irc-nic isr-rtc a-no-hover-decoration')[3].get_attribute(\"href\")\n",
    "        url=driver.find_element_by_tag_name(\"a\").get_attribute(\"href\")\n",
    "\n",
    "        \"\"\"\n",
    "        time.sleep(1)\n",
    "        handle_array = driver.window_handles\n",
    "        #print(handle_array[0]) # CDwindow-C05965EE59CAEC10F211A9409XXXXXXX\n",
    "        #print(handle_array[1]) # CDwindow-31F4FEABC928A04414A01D0B5XXXXXXX\n",
    "        driver.switch_to.window(handle_array[1])\n",
    "        url = driver.current_url\n",
    "        print(url)\n",
    "        driver.close()\n",
    "        #handle_array = driver.window_handles\n",
    "        #print(handle_array[0]) # CDwindow-C05965EE59CAEC10F211A9409XXXXXXX\n",
    "        #print(handle_array[1]) # CDwindow-31F4FEABC928A04414A01D0B5XXXXXXX\n",
    "        #driver.switch_to.window(handle_array[0])\n",
    "        #driver.get('https://www.google.co.jp/search?q=%s&tbm=isch' % query)\n",
    "        #driver.close()\n",
    "        #タブは閉じたもののままなので，移動する（さもないとerror(no such window: target window already closed)となり，ウィンドウを閉じたことになる）\n",
    "        driver.switch_to.window(handle_array[0])\n",
    "        url = driver.current_url\n",
    "        print(url)\n",
    "        \n"
   ]
  },
  {
   "cell_type": "code",
   "execution_count": null,
   "metadata": {},
   "outputs": [],
   "source": [
    "collect_news()"
   ]
  },
  {
   "cell_type": "code",
   "execution_count": null,
   "metadata": {},
   "outputs": [],
   "source": [
    "#タブの削除方法\n",
    "#ショートカットがうまくいかずタブを消せないので，.close()に変更\n",
    "#第一案\n",
    "#ActionChains(driver).send_keys(Keys.CONTROL, \"w\").perform()\n",
    "#第二案\n",
    "#driver.find_element_by_tag_name(\"body\").send_keys(Keys.CONTROL + \"w\").perform()\n",
    "#第三案\n",
    "# actions = ActionChains(driver)\n",
    "# actions.key_down(Keys.CONTROL)\n",
    "# actions.send_keys(\"w\")\n",
    "# actions.perform()\n"
   ]
  }
 ],
 "metadata": {
  "kernelspec": {
   "display_name": "Python 3",
   "language": "python",
   "name": "python3"
  },
  "language_info": {
   "codemirror_mode": {
    "name": "ipython",
    "version": 3
   },
   "file_extension": ".py",
   "mimetype": "text/x-python",
   "name": "python",
   "nbconvert_exporter": "python",
   "pygments_lexer": "ipython3",
   "version": "3.6.5"
  }
 },
 "nbformat": 4,
 "nbformat_minor": 2
}
