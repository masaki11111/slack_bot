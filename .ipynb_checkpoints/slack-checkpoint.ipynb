{
 "cells": [
  {
   "cell_type": "code",
   "execution_count": null,
   "metadata": {},
   "outputs": [],
   "source": [
    "import json\n",
    "import urllib.request\n",
    "from selenium import webdriver\n",
    "\n",
    "driver = webdriver.Chrome(executable_path=r\"C:\\Users\\care-lab\\chromedriver.exe\")\n",
    "query = 'turtle'\n",
    "driver.get('https://www.google.co.jp/search?q=%s&tbm=isch' % query)\n",
    "\n",
    "def lambda_handler(event, context):\n",
    "    post_slack()\n",
    "    # TODO implement\n",
    "    return {\n",
    "        'statusCode': 200,\n",
    "        'body': json.dumps('Hello from Lambda!')\n",
    "    }\n",
    "    \n",
    "def post_slack():\n",
    "    #URL取得\n",
    "    driver = webdriver.Chrome(executable_path=r\"C:\\Users\\care-lab\\chromedriver.exe\")\n",
    "    query = 'カリフォルニア+観光'\n",
    "    driver.get('https://www.google.co.jp/search?q=%s&tbm=isch' % query)\n",
    "    #リンクをクリックする\n",
    "    r=random.randint(3,100)\n",
    "    print(r)\n",
    "    _url=driver.find_elements_by_class_name('mVDMnf ')[r]\n",
    "    _url.click()\n",
    "    time.sleep(1)\n",
    "    handle_array = driver.window_handles\n",
    "    #print(handle_array[0]) # CDwindow-C05965EE59CAEC10F211A9409XXXXXXX\n",
    "    #print(handle_array[1]) # CDwindow-31F4FEABC928A04414A01D0B5XXXXXXX\n",
    "    driver.switch_to.window(handle_array[1])\n",
    "    url = driver.current_url\n",
    "    print(url)\n",
    "    \n",
    "    message = url\n",
    "    \n",
    "    send_data = {\n",
    "        \"username\": \"お昼ご飯推薦\",\n",
    "        \"icon_emoji\": \":bento:\",\n",
    "        \"text\": message,\n",
    "    }\n",
    "    send_text = \"payload=\" + json.dumps(send_data)\n",
    "    # URLにはご自分のWebhook URLを入力してください\n",
    "    request = urllib.request.Request(\n",
    "        \"###########################################\", \n",
    "        data=send_text.encode('utf-8'), \n",
    "        method=\"POST\"\n",
    "    )\n",
    "    with urllib.request.urlopen(request) as response:\n",
    "        response_body = response.read().decode('utf-8')\n"
   ]
  }
 ],
 "metadata": {
  "kernelspec": {
   "display_name": "Python 3",
   "language": "python",
   "name": "python3"
  },
  "language_info": {
   "codemirror_mode": {
    "name": "ipython",
    "version": 3
   },
   "file_extension": ".py",
   "mimetype": "text/x-python",
   "name": "python",
   "nbconvert_exporter": "python",
   "pygments_lexer": "ipython3",
   "version": "3.6.5"
  }
 },
 "nbformat": 4,
 "nbformat_minor": 2
}
