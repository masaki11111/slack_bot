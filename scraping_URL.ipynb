{
 "cells": [
  {
   "cell_type": "code",
   "execution_count": 13,
   "metadata": {},
   "outputs": [],
   "source": [
    "from selenium import webdriver\n",
    "import time\n",
    "import random\n",
    "from selenium.webdriver.chrome.options import Options\n"
   ]
  },
  {
   "cell_type": "code",
   "execution_count": 14,
   "metadata": {},
   "outputs": [],
   "source": [
    "def collect_news():\n",
    "    #グーグルで検索\n",
    "    options = Options()\n",
    "    options.add_argument('--headless')\n",
    "    driver = webdriver.Chrome(executable_path=r\"C:\\Users\\care-lab\\chromedriver.exe\",options=options)\n",
    "    query = 'カリフォルニア+観光'\n",
    "    driver.get('https://www.google.co.jp/search?q=%s&tbm=isch' % query)\n",
    "    #リンクをクリックする\n",
    "    r=random.randint(3,100)\n",
    "    print(r)\n",
    "    _url=driver.find_elements_by_class_name('mVDMnf ')[r]\n",
    "    _url.click()\n",
    "\n",
    "    \"\"\"\n",
    "    リンク先のURLを取得してもslackで参考画像が出ないのでリンクURL取得は却下\n",
    "    また，リンクURLからサイトに飛ぶ場合も，リンクURLではなくgoogleの画像一覧のURLが取得されるため却下\n",
    "    url=driver.find_elements_by_class_name('iKjWAf irc-nic isr-rtc a-no-hover-decoration')[3].get_attribute(\"href\")\n",
    "    url=driver.find_element_by_tag_name(\"a\").get_attribute(\"href\")\n",
    "\n",
    "    \"\"\"\n",
    "    time.sleep(1)\n",
    "    handle_array = driver.window_handles\n",
    "    #print(handle_array[0]) # CDwindow-C05965EE59CAEC10F211A9409XXXXXXX\n",
    "    #print(handle_array[1]) # CDwindow-31F4FEABC928A04414A01D0B5XXXXXXX\n",
    "    driver.switch_to.window(handle_array[1])\n",
    "    url = driver.current_url\n",
    "    print(url)\n"
   ]
  },
  {
   "cell_type": "code",
   "execution_count": 15,
   "metadata": {},
   "outputs": [
    {
     "name": "stdout",
     "output_type": "stream",
     "text": [
      "74\n",
      "https://traveloco.jp/california/recommends/kanko\n"
     ]
    }
   ],
   "source": [
    "collect_news()"
   ]
  },
  {
   "cell_type": "code",
   "execution_count": null,
   "metadata": {},
   "outputs": [],
   "source": []
  }
 ],
 "metadata": {
  "kernelspec": {
   "display_name": "Python 3",
   "language": "python",
   "name": "python3"
  },
  "language_info": {
   "codemirror_mode": {
    "name": "ipython",
    "version": 3
   },
   "file_extension": ".py",
   "mimetype": "text/x-python",
   "name": "python",
   "nbconvert_exporter": "python",
   "pygments_lexer": "ipython3",
   "version": "3.6.5"
  }
 },
 "nbformat": 4,
 "nbformat_minor": 2
}
